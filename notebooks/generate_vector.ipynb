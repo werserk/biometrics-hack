{
 "cells": [
  {
   "cell_type": "code",
   "id": "initial_id",
   "metadata": {
    "collapsed": true,
    "ExecuteTime": {
     "end_time": "2024-10-10T18:45:29.920412Z",
     "start_time": "2024-10-10T18:45:27.603431Z"
    }
   },
   "source": [
    "import os\n",
    "\n",
    "import cv2\n",
    "import numpy as np\n",
    "from insightface.app import FaceAnalysis"
   ],
   "outputs": [
    {
     "name": "stderr",
     "output_type": "stream",
     "text": [
      "/home/tema/.cache/pypoetry/virtualenvs/biometrics-hack-Ov7VMGe3-py3.12/lib/python3.12/site-packages/albumentations/__init__.py:13: UserWarning: A new version of Albumentations is available: 1.4.18 (you have 1.4.17). Upgrade using: pip install -U albumentations. To disable automatic update checks, set the environment variable NO_ALBUMENTATIONS_UPDATE to 1.\n",
      "  check_for_updates()\n"
     ]
    }
   ],
   "execution_count": 1
  },
  {
   "metadata": {
    "ExecuteTime": {
     "end_time": "2024-10-10T18:45:29.932058Z",
     "start_time": "2024-10-10T18:45:29.927989Z"
    }
   },
   "cell_type": "code",
   "source": [
    "from numpy.linalg import norm\n",
    "\n",
    "\n",
    "def cos_metric(vector1: np.ndarray, vector2: np.ndarray) -> float:\n",
    "    cosine = np.dot(vector1, vector2) / (norm(vector1) * norm(vector2))\n",
    "    return cosine"
   ],
   "id": "2b0c7c0e7a9b32be",
   "outputs": [],
   "execution_count": 2
  },
  {
   "metadata": {
    "ExecuteTime": {
     "end_time": "2024-10-10T18:45:30.095380Z",
     "start_time": "2024-10-10T18:45:30.091869Z"
    }
   },
   "cell_type": "code",
   "source": [
    "def get_vector(app, img_path: str) -> np.ndarray:\n",
    "    img = cv2.imread(img_path)\n",
    "    faces = app.get(img)\n",
    "    return faces[0].normed_embedding"
   ],
   "id": "78d480c7a313b9ab",
   "outputs": [],
   "execution_count": 3
  },
  {
   "metadata": {
    "ExecuteTime": {
     "end_time": "2024-10-10T18:46:28.573459Z",
     "start_time": "2024-10-10T18:45:50.994456Z"
    }
   },
   "cell_type": "code",
   "source": [
    "# providers=['CUDAExecutionProvider', 'CPUExecutionProvider']\n",
    "app = FaceAnalysis(name='antelopev2', root = \"./models/\", providers=[\"CPUExecutionProvider\"])\n",
    "app.prepare(ctx_id=0, det_size=(640, 640))"
   ],
   "id": "936c35f177ac2c54",
   "outputs": [
    {
     "name": "stdout",
     "output_type": "stream",
     "text": [
      "download_path: ./models/models/antelopev2\n",
      "Downloading ./models/models/antelopev2.zip from https://github.com/deepinsight/insightface/releases/download/v0.7/antelopev2.zip...\n"
     ]
    },
    {
     "name": "stderr",
     "output_type": "stream",
     "text": [
      "100%|██████████| 352210/352210 [00:32<00:00, 10800.18KB/s]\n"
     ]
    },
    {
     "ename": "AssertionError",
     "evalue": "",
     "output_type": "error",
     "traceback": [
      "\u001B[0;31m---------------------------------------------------------------------------\u001B[0m",
      "\u001B[0;31mAssertionError\u001B[0m                            Traceback (most recent call last)",
      "Cell \u001B[0;32mIn[5], line 2\u001B[0m\n\u001B[1;32m      1\u001B[0m \u001B[38;5;66;03m# providers=['CUDAExecutionProvider', 'CPUExecutionProvider']\u001B[39;00m\n\u001B[0;32m----> 2\u001B[0m app \u001B[38;5;241m=\u001B[39m \u001B[43mFaceAnalysis\u001B[49m\u001B[43m(\u001B[49m\u001B[43mname\u001B[49m\u001B[38;5;241;43m=\u001B[39;49m\u001B[38;5;124;43m'\u001B[39;49m\u001B[38;5;124;43mantelopev2\u001B[39;49m\u001B[38;5;124;43m'\u001B[39;49m\u001B[43m,\u001B[49m\u001B[43m \u001B[49m\u001B[43mroot\u001B[49m\u001B[43m \u001B[49m\u001B[38;5;241;43m=\u001B[39;49m\u001B[43m \u001B[49m\u001B[38;5;124;43m\"\u001B[39;49m\u001B[38;5;124;43m./models/\u001B[39;49m\u001B[38;5;124;43m\"\u001B[39;49m\u001B[43m,\u001B[49m\u001B[43m \u001B[49m\u001B[43mproviders\u001B[49m\u001B[38;5;241;43m=\u001B[39;49m\u001B[43m[\u001B[49m\u001B[38;5;124;43m\"\u001B[39;49m\u001B[38;5;124;43mCPUExecutionProvider\u001B[39;49m\u001B[38;5;124;43m\"\u001B[39;49m\u001B[43m]\u001B[49m\u001B[43m)\u001B[49m\n\u001B[1;32m      3\u001B[0m app\u001B[38;5;241m.\u001B[39mprepare(ctx_id\u001B[38;5;241m=\u001B[39m\u001B[38;5;241m0\u001B[39m, det_size\u001B[38;5;241m=\u001B[39m(\u001B[38;5;241m640\u001B[39m, \u001B[38;5;241m640\u001B[39m))\n",
      "File \u001B[0;32m~/.cache/pypoetry/virtualenvs/biometrics-hack-Ov7VMGe3-py3.12/lib/python3.12/site-packages/insightface/app/face_analysis.py:43\u001B[0m, in \u001B[0;36mFaceAnalysis.__init__\u001B[0;34m(self, name, root, allowed_modules, **kwargs)\u001B[0m\n\u001B[1;32m     41\u001B[0m         \u001B[38;5;28mprint\u001B[39m(\u001B[38;5;124m'\u001B[39m\u001B[38;5;124mduplicated model task type, ignore:\u001B[39m\u001B[38;5;124m'\u001B[39m, onnx_file, model\u001B[38;5;241m.\u001B[39mtaskname)\n\u001B[1;32m     42\u001B[0m         \u001B[38;5;28;01mdel\u001B[39;00m model\n\u001B[0;32m---> 43\u001B[0m \u001B[38;5;28;01massert\u001B[39;00m \u001B[38;5;124m'\u001B[39m\u001B[38;5;124mdetection\u001B[39m\u001B[38;5;124m'\u001B[39m \u001B[38;5;129;01min\u001B[39;00m \u001B[38;5;28mself\u001B[39m\u001B[38;5;241m.\u001B[39mmodels\n\u001B[1;32m     44\u001B[0m \u001B[38;5;28mself\u001B[39m\u001B[38;5;241m.\u001B[39mdet_model \u001B[38;5;241m=\u001B[39m \u001B[38;5;28mself\u001B[39m\u001B[38;5;241m.\u001B[39mmodels[\u001B[38;5;124m'\u001B[39m\u001B[38;5;124mdetection\u001B[39m\u001B[38;5;124m'\u001B[39m]\n",
      "\u001B[0;31mAssertionError\u001B[0m: "
     ]
    }
   ],
   "execution_count": 5
  },
  {
   "metadata": {
    "ExecuteTime": {
     "end_time": "2024-10-10T18:45:25.405342261Z",
     "start_time": "2024-10-10T18:39:47.321754Z"
    }
   },
   "cell_type": "code",
   "source": [
    "img = cv2.imread(os.path.join(ROOT_PATH, 'scarlet.jpeg'))\n",
    "faces = app.get(img)\n"
   ],
   "id": "9a29c0d1b61ee48b",
   "outputs": [
    {
     "ename": "NameError",
     "evalue": "name 'ROOT_PATH' is not defined",
     "output_type": "error",
     "traceback": [
      "\u001B[0;31m---------------------------------------------------------------------------\u001B[0m",
      "\u001B[0;31mNameError\u001B[0m                                 Traceback (most recent call last)",
      "Cell \u001B[0;32mIn[6], line 1\u001B[0m\n\u001B[0;32m----> 1\u001B[0m img \u001B[38;5;241m=\u001B[39m cv2\u001B[38;5;241m.\u001B[39mimread(os\u001B[38;5;241m.\u001B[39mpath\u001B[38;5;241m.\u001B[39mjoin(\u001B[43mROOT_PATH\u001B[49m, \u001B[38;5;124m'\u001B[39m\u001B[38;5;124mscarlet.jpeg\u001B[39m\u001B[38;5;124m'\u001B[39m))\n\u001B[1;32m      2\u001B[0m faces \u001B[38;5;241m=\u001B[39m app\u001B[38;5;241m.\u001B[39mget(img)\n",
      "\u001B[0;31mNameError\u001B[0m: name 'ROOT_PATH' is not defined"
     ]
    }
   ],
   "execution_count": 6
  },
  {
   "metadata": {
    "ExecuteTime": {
     "end_time": "2024-10-10T18:45:25.406187329Z",
     "start_time": "2024-10-10T18:39:48.564349Z"
    }
   },
   "cell_type": "code",
   "source": "faces[0]['bbox']",
   "id": "9c54a679d8151002",
   "outputs": [
    {
     "ename": "NameError",
     "evalue": "name 'faces' is not defined",
     "output_type": "error",
     "traceback": [
      "\u001B[0;31m---------------------------------------------------------------------------\u001B[0m",
      "\u001B[0;31mNameError\u001B[0m                                 Traceback (most recent call last)",
      "Cell \u001B[0;32mIn[7], line 1\u001B[0m\n\u001B[0;32m----> 1\u001B[0m \u001B[43mfaces\u001B[49m[\u001B[38;5;241m0\u001B[39m][\u001B[38;5;124m'\u001B[39m\u001B[38;5;124mbbox\u001B[39m\u001B[38;5;124m'\u001B[39m]\n",
      "\u001B[0;31mNameError\u001B[0m: name 'faces' is not defined"
     ]
    }
   ],
   "execution_count": 7
  },
  {
   "metadata": {
    "ExecuteTime": {
     "end_time": "2024-10-10T18:45:25.407143093Z",
     "start_time": "2024-10-10T18:39:49.115546Z"
    }
   },
   "cell_type": "code",
   "source": [
    "import matplotlib.pyplot as plt\n",
    "fig, ax = plt.subplots()\n",
    "\n",
    "cords = faces[0]['bbox']\n",
    "x = cords[0] - cords[2] / 2\n",
    "y = cords[1] - cords[3] / 2\n",
    "print(x, y)\n",
    "ax.imshow(img)\n",
    "# Добавление bounding box на график\n",
    "bounding_box = plt.Rectangle((cords[0], cords[1]), cords[2] - cords[0], cords[3] - cords[1], edgecolor='r', facecolor='none', linewidth=2)\n",
    "ax.add_patch(bounding_box)\n"
   ],
   "id": "dd1b8b4758bc4277",
   "outputs": [
    {
     "ename": "NameError",
     "evalue": "name 'faces' is not defined",
     "output_type": "error",
     "traceback": [
      "\u001B[0;31m---------------------------------------------------------------------------\u001B[0m",
      "\u001B[0;31mNameError\u001B[0m                                 Traceback (most recent call last)",
      "Cell \u001B[0;32mIn[8], line 4\u001B[0m\n\u001B[1;32m      1\u001B[0m \u001B[38;5;28;01mimport\u001B[39;00m \u001B[38;5;21;01mmatplotlib\u001B[39;00m\u001B[38;5;21;01m.\u001B[39;00m\u001B[38;5;21;01mpyplot\u001B[39;00m \u001B[38;5;28;01mas\u001B[39;00m \u001B[38;5;21;01mplt\u001B[39;00m\n\u001B[1;32m      2\u001B[0m fig, ax \u001B[38;5;241m=\u001B[39m plt\u001B[38;5;241m.\u001B[39msubplots()\n\u001B[0;32m----> 4\u001B[0m cords \u001B[38;5;241m=\u001B[39m \u001B[43mfaces\u001B[49m[\u001B[38;5;241m0\u001B[39m][\u001B[38;5;124m'\u001B[39m\u001B[38;5;124mbbox\u001B[39m\u001B[38;5;124m'\u001B[39m]\n\u001B[1;32m      5\u001B[0m x \u001B[38;5;241m=\u001B[39m cords[\u001B[38;5;241m0\u001B[39m] \u001B[38;5;241m-\u001B[39m cords[\u001B[38;5;241m2\u001B[39m] \u001B[38;5;241m/\u001B[39m \u001B[38;5;241m2\u001B[39m\n\u001B[1;32m      6\u001B[0m y \u001B[38;5;241m=\u001B[39m cords[\u001B[38;5;241m1\u001B[39m] \u001B[38;5;241m-\u001B[39m cords[\u001B[38;5;241m3\u001B[39m] \u001B[38;5;241m/\u001B[39m \u001B[38;5;241m2\u001B[39m\n",
      "\u001B[0;31mNameError\u001B[0m: name 'faces' is not defined"
     ]
    },
    {
     "data": {
      "text/plain": [
       "<Figure size 640x480 with 1 Axes>"
      ],
      "image/png": "[encoded data removed]"
     },
     "metadata": {},
     "output_type": "display_data"
    }
   ],
   "execution_count": 8
  },
  {
   "metadata": {
    "ExecuteTime": {
     "end_time": "2024-10-10T18:45:25.408651574Z",
     "start_time": "2024-10-10T18:39:50.136949Z"
    }
   },
   "cell_type": "code",
   "source": [
    "ROOT_PATH = \"../assets/examples\"\n",
    "\n",
    "vector_artem = get_vector(app, os.path.join(ROOT_PATH, \"artem.jpg\"))\n",
    "vector_max = get_vector(app, os.path.join(ROOT_PATH, \"max.jpg\"))\n",
    "vector_scarlet = get_vector(app, os.path.join(ROOT_PATH, \"scarlet.jpeg\"))\n",
    "vector_sonya = get_vector(app, os.path.join(ROOT_PATH, \"sonya.jpg\"))\n",
    "vector_max2 = get_vector(app, os.path.join(ROOT_PATH, \"max2.jpg\"))\n",
    "vector_max3 = get_vector(app, os.path.join(ROOT_PATH, \"max3.jpg\"))"
   ],
   "id": "cefadd8be251e258",
   "outputs": [
    {
     "ename": "NameError",
     "evalue": "name 'app' is not defined",
     "output_type": "error",
     "traceback": [
      "\u001B[0;31m---------------------------------------------------------------------------\u001B[0m",
      "\u001B[0;31mNameError\u001B[0m                                 Traceback (most recent call last)",
      "Cell \u001B[0;32mIn[9], line 3\u001B[0m\n\u001B[1;32m      1\u001B[0m ROOT_PATH \u001B[38;5;241m=\u001B[39m \u001B[38;5;124m\"\u001B[39m\u001B[38;5;124m../assets/examples\u001B[39m\u001B[38;5;124m\"\u001B[39m\n\u001B[0;32m----> 3\u001B[0m vector_artem \u001B[38;5;241m=\u001B[39m get_vector(\u001B[43mapp\u001B[49m, os\u001B[38;5;241m.\u001B[39mpath\u001B[38;5;241m.\u001B[39mjoin(ROOT_PATH, \u001B[38;5;124m\"\u001B[39m\u001B[38;5;124martem.jpg\u001B[39m\u001B[38;5;124m\"\u001B[39m))\n\u001B[1;32m      4\u001B[0m vector_max \u001B[38;5;241m=\u001B[39m get_vector(app, os\u001B[38;5;241m.\u001B[39mpath\u001B[38;5;241m.\u001B[39mjoin(ROOT_PATH, \u001B[38;5;124m\"\u001B[39m\u001B[38;5;124mmax.jpg\u001B[39m\u001B[38;5;124m\"\u001B[39m))\n\u001B[1;32m      5\u001B[0m vector_scarlet \u001B[38;5;241m=\u001B[39m get_vector(app, os\u001B[38;5;241m.\u001B[39mpath\u001B[38;5;241m.\u001B[39mjoin(ROOT_PATH, \u001B[38;5;124m\"\u001B[39m\u001B[38;5;124mscarlet.jpeg\u001B[39m\u001B[38;5;124m\"\u001B[39m))\n",
      "\u001B[0;31mNameError\u001B[0m: name 'app' is not defined"
     ]
    }
   ],
   "execution_count": 9
  },
  {
   "metadata": {
    "ExecuteTime": {
     "end_time": "2024-10-10T18:45:25.428218030Z",
     "start_time": "2024-10-08T14:27:53.562378Z"
    }
   },
   "cell_type": "code",
   "source": "vector_max3 = get_vector(app, os.path.join(ROOT_PATH, \"max3.jpg\"))",
   "id": "12d747f35e1257fe",
   "outputs": [],
   "execution_count": 16
  },
  {
   "metadata": {
    "ExecuteTime": {
     "end_time": "2024-10-10T18:45:25.429180988Z",
     "start_time": "2024-10-08T14:28:40.247392Z"
    }
   },
   "cell_type": "code",
   "source": "",
   "id": "ce030ebf71d955e9",
   "outputs": [],
   "execution_count": null
  },
  {
   "metadata": {
    "ExecuteTime": {
     "end_time": "2024-10-10T18:45:25.429752701Z",
     "start_time": "2024-10-08T14:27:07.172424Z"
    }
   },
   "cell_type": "code",
   "source": "vector_artem.shape",
   "id": "4c1405f9088e7bb2",
   "outputs": [
    {
     "data": {
      "text/plain": [
       "(512,)"
      ]
     },
     "execution_count": 9,
     "metadata": {},
     "output_type": "execute_result"
    }
   ],
   "execution_count": 9
  },
  {
   "metadata": {
    "ExecuteTime": {
     "end_time": "2024-10-10T18:45:25.430604683Z",
     "start_time": "2024-10-08T14:00:31.688217Z"
    }
   },
   "cell_type": "code",
   "source": [
    "print(cos_metric(vector_max, vector_max))\n",
    "print(cos_metric(vector_artem, vector_scarlet))\n",
    "print(cos_metric(vector_max, vector_scarlet))\n",
    "print(cos_metric(vector_sonya, vector_scarlet))\n",
    "print(cos_metric(vector_max, vector_artem))"
   ],
   "id": "e9f470fb977ea96e",
   "outputs": [
    {
     "name": "stdout",
     "output_type": "stream",
     "text": [
      "1.0000001\n",
      "-0.041161727\n",
      "0.0974093\n",
      "0.035541832\n",
      "0.04414026\n"
     ]
    }
   ],
   "execution_count": 9
  },
  {
   "metadata": {
    "ExecuteTime": {
     "end_time": "2024-10-10T18:45:25.431419370Z",
     "start_time": "2024-10-08T13:58:57.411209Z"
    }
   },
   "cell_type": "code",
   "source": [
    "print(cos_metric(vector_max, vector_max2))\n",
    "print(cos_metric(vector_max, vector_max3))\n",
    "print(cos_metric(vector_max2, vector_max3))"
   ],
   "id": "5777f6b118dc10c7",
   "outputs": [
    {
     "name": "stdout",
     "output_type": "stream",
     "text": [
      "0.61291605\n",
      "0.5359313\n",
      "0.6193128\n"
     ]
    }
   ],
   "execution_count": 8
  },
  {
   "metadata": {
    "ExecuteTime": {
     "end_time": "2024-10-10T18:45:25.432056942Z",
     "start_time": "2024-10-08T15:05:53.618070Z"
    }
   },
   "cell_type": "code",
   "source": "np.argmax([False, False, True])",
   "id": "3d12bde00a649f6d",
   "outputs": [
    {
     "data": {
      "text/plain": [
       "np.int64(2)"
      ]
     },
     "execution_count": 20,
     "metadata": {},
     "output_type": "execute_result"
    }
   ],
   "execution_count": 20
  },
  {
   "metadata": {
    "ExecuteTime": {
     "end_time": "2024-10-10T18:45:25.432851445Z",
     "start_time": "2024-10-08T15:10:37.568753Z"
    }
   },
   "cell_type": "code",
   "source": "img",
   "id": "383f449d10920f90",
   "outputs": [
    {
     "ename": "NameError",
     "evalue": "name 'img' is not defined",
     "output_type": "error",
     "traceback": [
      "\u001B[0;31m---------------------------------------------------------------------------\u001B[0m",
      "\u001B[0;31mNameError\u001B[0m                                 Traceback (most recent call last)",
      "Cell \u001B[0;32mIn[22], line 1\u001B[0m\n\u001B[0;32m----> 1\u001B[0m \u001B[43mimg\u001B[49m\n",
      "\u001B[0;31mNameError\u001B[0m: name 'img' is not defined"
     ]
    }
   ],
   "execution_count": 22
  },
  {
   "metadata": {},
   "cell_type": "code",
   "outputs": [],
   "execution_count": null,
   "source": "",
   "id": "ff1a298586cea2cb"
  }
 ],
 "metadata": {
  "kernelspec": {
   "display_name": "Python 3",
   "language": "python",
   "name": "python3"
  },
  "language_info": {
   "codemirror_mode": {
    "name": "ipython",
    "version": 2
   },
   "file_extension": ".py",
   "mimetype": "text/x-python",
   "name": "python",
   "nbconvert_exporter": "python",
   "pygments_lexer": "ipython2",
   "version": "2.7.6"
  }
 },
 "nbformat": 4,
 "nbformat_minor": 5
}
