{
 "cells": [
  {
   "cell_type": "code",
   "id": "initial_id",
   "metadata": {
    "collapsed": true,
    "ExecuteTime": {
     "end_time": "2024-10-08T14:26:56.002123Z",
     "start_time": "2024-10-08T14:26:55.997123Z"
    }
   },
   "source": [
    "import cv2\n",
    "import numpy as np\n",
    "import os\n",
    "\n",
    "from insightface.app import FaceAnalysis\n",
    "from insightface.data import get_image as ins_get_image\n",
    "from scipy.spatial.distance import cosine, euclidean, cityblock"
   ],
   "outputs": [],
   "execution_count": 4
  },
  {
   "metadata": {
    "ExecuteTime": {
     "end_time": "2024-10-08T15:10:39.838915Z",
     "start_time": "2024-10-08T15:10:39.832570Z"
    }
   },
   "cell_type": "code",
   "source": [
    "from numpy.linalg import norm\n",
    "\n",
    "\n",
    "def cos_metric(vector1: np.ndarray, vector2: np.ndarray) -> float:\n",
    "    cosine = np.dot(vector1, vector2) / (norm(vector1) * norm(vector2))\n",
    "    return cosine"
   ],
   "id": "2b0c7c0e7a9b32be",
   "outputs": [],
   "execution_count": 23
  },
  {
   "metadata": {
    "ExecuteTime": {
     "end_time": "2024-10-08T15:10:39.962768Z",
     "start_time": "2024-10-08T15:10:39.959045Z"
    }
   },
   "cell_type": "code",
   "source": [
    "def get_vector(app, img_path: str) -> np.ndarray:\n",
    "    img = cv2.imread(img_path)\n",
    "    faces = app.get(img)\n",
    "    return faces[0].normed_embedding"
   ],
   "id": "78d480c7a313b9ab",
   "outputs": [],
   "execution_count": 24
  },
  {
   "metadata": {
    "ExecuteTime": {
     "end_time": "2024-10-08T15:10:41.660550Z",
     "start_time": "2024-10-08T15:10:40.148847Z"
    }
   },
   "cell_type": "code",
   "source": [
    "# providers=['CUDAExecutionProvider', 'CPUExecutionProvider']\n",
    "app = FaceAnalysis(providers=[\"CPUExecutionProvider\"])\n",
    "app.prepare(ctx_id=0, det_size=(640, 640))"
   ],
   "id": "936c35f177ac2c54",
   "outputs": [
    {
     "name": "stdout",
     "output_type": "stream",
     "text": [
      "Applied providers: ['CPUExecutionProvider'], with options: {'CPUExecutionProvider': {}}\n",
      "find model: /home/tema/.insightface/models/buffalo_l/1k3d68.onnx landmark_3d_68 ['None', 3, 192, 192] 0.0 1.0\n",
      "Applied providers: ['CPUExecutionProvider'], with options: {'CPUExecutionProvider': {}}\n",
      "find model: /home/tema/.insightface/models/buffalo_l/2d106det.onnx landmark_2d_106 ['None', 3, 192, 192] 0.0 1.0\n",
      "Applied providers: ['CPUExecutionProvider'], with options: {'CPUExecutionProvider': {}}\n",
      "find model: /home/tema/.insightface/models/buffalo_l/det_10g.onnx detection [1, 3, '?', '?'] 127.5 128.0\n",
      "Applied providers: ['CPUExecutionProvider'], with options: {'CPUExecutionProvider': {}}\n",
      "find model: /home/tema/.insightface/models/buffalo_l/genderage.onnx genderage ['None', 3, 96, 96] 0.0 1.0\n",
      "Applied providers: ['CPUExecutionProvider'], with options: {'CPUExecutionProvider': {}}\n",
      "find model: /home/tema/.insightface/models/buffalo_l/w600k_r50.onnx recognition ['None', 3, 112, 112] 127.5 127.5\n",
      "set det-size: (640, 640)\n"
     ]
    }
   ],
   "execution_count": 25
  },
  {
   "metadata": {
    "ExecuteTime": {
     "end_time": "2024-10-08T15:10:45.162628Z",
     "start_time": "2024-10-08T15:10:43.224331Z"
    }
   },
   "cell_type": "code",
   "source": [
    "ROOT_PATH = \"../assets/examples\"\n",
    "\n",
    "vector_artem = get_vector(app, os.path.join(ROOT_PATH, \"artem.jpg\"))\n",
    "vector_max = get_vector(app, os.path.join(ROOT_PATH, \"max.jpg\"))\n",
    "vector_scarlet = get_vector(app, os.path.join(ROOT_PATH, \"scarlet.jpeg\"))\n",
    "vector_sonya = get_vector(app, os.path.join(ROOT_PATH, \"sonya.jpg\"))\n",
    "vector_max2 = get_vector(app, os.path.join(ROOT_PATH, \"max2.jpg\"))\n",
    "vector_max3 = get_vector(app, os.path.join(ROOT_PATH, \"max3.jpg\"))"
   ],
   "id": "cefadd8be251e258",
   "outputs": [],
   "execution_count": 26
  },
  {
   "metadata": {
    "ExecuteTime": {
     "end_time": "2024-10-08T14:27:53.824946Z",
     "start_time": "2024-10-08T14:27:53.562378Z"
    }
   },
   "cell_type": "code",
   "source": "vector_max3 = get_vector(app, os.path.join(ROOT_PATH, \"max3.jpg\"))",
   "id": "12d747f35e1257fe",
   "outputs": [],
   "execution_count": 16
  },
  {
   "metadata": {
    "ExecuteTime": {
     "end_time": "2024-10-08T14:28:40.250362Z",
     "start_time": "2024-10-08T14:28:40.247392Z"
    }
   },
   "cell_type": "code",
   "source": "",
   "id": "ce030ebf71d955e9",
   "outputs": [],
   "execution_count": null
  },
  {
   "metadata": {
    "ExecuteTime": {
     "end_time": "2024-10-08T14:27:07.177926Z",
     "start_time": "2024-10-08T14:27:07.172424Z"
    }
   },
   "cell_type": "code",
   "source": "vector_artem.shape",
   "id": "4c1405f9088e7bb2",
   "outputs": [
    {
     "data": {
      "text/plain": [
       "(512,)"
      ]
     },
     "execution_count": 9,
     "metadata": {},
     "output_type": "execute_result"
    }
   ],
   "execution_count": 9
  },
  {
   "metadata": {
    "ExecuteTime": {
     "end_time": "2024-10-08T13:58:45.479647Z",
     "start_time": "2024-10-08T13:58:45.472608Z"
    }
   },
   "cell_type": "code",
   "source": [
    "print(cos_metric(vector_max, vector_max))\n",
    "print(cos_metric(vector_artem, vector_scarlet))\n",
    "print(cos_metric(vector_max, vector_scarlet))\n",
    "print(cos_metric(vector_sonya, vector_scarlet))"
   ],
   "id": "e9f470fb977ea96e",
   "outputs": [
    {
     "name": "stdout",
     "output_type": "stream",
     "text": [
      "1.0000001\n",
      "-0.041161727\n",
      "0.0974093\n",
      "0.035541832\n"
     ]
    }
   ],
   "execution_count": 7
  },
  {
   "metadata": {
    "ExecuteTime": {
     "end_time": "2024-10-08T13:58:57.413806Z",
     "start_time": "2024-10-08T13:58:57.411209Z"
    }
   },
   "cell_type": "code",
   "source": [
    "print(cos_metric(vector_max, vector_max2))\n",
    "print(cos_metric(vector_max, vector_max3))\n",
    "print(cos_metric(vector_max2, vector_max3))"
   ],
   "id": "5777f6b118dc10c7",
   "outputs": [
    {
     "name": "stdout",
     "output_type": "stream",
     "text": [
      "0.61291605\n",
      "0.5359313\n",
      "0.6193128\n"
     ]
    }
   ],
   "execution_count": 8
  },
  {
   "metadata": {
    "ExecuteTime": {
     "end_time": "2024-10-08T15:05:53.623521Z",
     "start_time": "2024-10-08T15:05:53.618070Z"
    }
   },
   "cell_type": "code",
   "source": "np.argmax([False, False, True])",
   "id": "3d12bde00a649f6d",
   "outputs": [
    {
     "data": {
      "text/plain": [
       "np.int64(2)"
      ]
     },
     "execution_count": 20,
     "metadata": {},
     "output_type": "execute_result"
    }
   ],
   "execution_count": 20
  },
  {
   "metadata": {
    "ExecuteTime": {
     "end_time": "2024-10-08T15:10:37.581757Z",
     "start_time": "2024-10-08T15:10:37.568753Z"
    }
   },
   "cell_type": "code",
   "source": "img",
   "id": "383f449d10920f90",
   "outputs": [
    {
     "ename": "NameError",
     "evalue": "name 'img' is not defined",
     "output_type": "error",
     "traceback": [
      "\u001B[0;31m---------------------------------------------------------------------------\u001B[0m",
      "\u001B[0;31mNameError\u001B[0m                                 Traceback (most recent call last)",
      "Cell \u001B[0;32mIn[22], line 1\u001B[0m\n\u001B[0;32m----> 1\u001B[0m \u001B[43mimg\u001B[49m\n",
      "\u001B[0;31mNameError\u001B[0m: name 'img' is not defined"
     ]
    }
   ],
   "execution_count": 22
  },
  {
   "metadata": {},
   "cell_type": "code",
   "outputs": [],
   "execution_count": null,
   "source": "",
   "id": "ff1a298586cea2cb"
  }
 ],
 "metadata": {
  "kernelspec": {
   "display_name": "Python 3",
   "language": "python",
   "name": "python3"
  },
  "language_info": {
   "codemirror_mode": {
    "name": "ipython",
    "version": 2
   },
   "file_extension": ".py",
   "mimetype": "text/x-python",
   "name": "python",
   "nbconvert_exporter": "python",
   "pygments_lexer": "ipython2",
   "version": "2.7.6"
  }
 },
 "nbformat": 4,
 "nbformat_minor": 5
}
