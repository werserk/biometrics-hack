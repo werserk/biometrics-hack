{
 "cells": [
  {
   "cell_type": "code",
   "id": "initial_id",
   "metadata": {
    "collapsed": true,
    "ExecuteTime": {
     "end_time": "2024-10-08T13:37:58.509505Z",
     "start_time": "2024-10-08T13:37:57.213092Z"
    }
   },
   "source": [
    "import cv2\n",
    "import numpy as np\n",
    "import os\n",
    "\n",
    "from insightface.app import FaceAnalysis\n",
    "from insightface.data import get_image as ins_get_image\n",
    "from scipy.spatial.distance import cosine, euclidean, cityblock"
   ],
   "outputs": [],
   "execution_count": 1
  },
  {
   "metadata": {
    "ExecuteTime": {
     "end_time": "2024-10-08T13:37:58.513577Z",
     "start_time": "2024-10-08T13:37:58.510733Z"
    }
   },
   "cell_type": "code",
   "source": [
    "from numpy.linalg import norm\n",
    "\n",
    "\n",
    "def cos_metric(vector1: np.ndarray, vector2: np.ndarray) -> float:\n",
    "    cosine = np.dot(vector1, vector2) / (norm(vector1) * norm(vector2))\n",
    "    return cosine"
   ],
   "id": "2b0c7c0e7a9b32be",
   "outputs": [],
   "execution_count": 2
  },
  {
   "metadata": {
    "ExecuteTime": {
     "end_time": "2024-10-08T13:37:58.527310Z",
     "start_time": "2024-10-08T13:37:58.515072Z"
    }
   },
   "cell_type": "code",
   "source": [
    "def get_vector(app, img_path: str) -> np.ndarray:\n",
    "    img = cv2.imread(img_path)\n",
    "    faces = app.get(img)\n",
    "    return faces[0].normed_embedding"
   ],
   "id": "78d480c7a313b9ab",
   "outputs": [],
   "execution_count": 3
  },
  {
   "metadata": {
    "ExecuteTime": {
     "end_time": "2024-10-08T13:37:59.629080Z",
     "start_time": "2024-10-08T13:37:58.528330Z"
    }
   },
   "cell_type": "code",
   "source": [
    "# providers=['CUDAExecutionProvider', 'CPUExecutionProvider']\n",
    "app = FaceAnalysis(providers=[\"CPUExecutionProvider\"])\n",
    "app.prepare(ctx_id=0, det_size=(640, 640))"
   ],
   "id": "936c35f177ac2c54",
   "outputs": [
    {
     "name": "stdout",
     "output_type": "stream",
     "text": [
      "Applied providers: ['CPUExecutionProvider'], with options: {'CPUExecutionProvider': {}}\n",
      "find model: /home/werserk/.insightface/models/buffalo_l/1k3d68.onnx landmark_3d_68 ['None', 3, 192, 192] 0.0 1.0\n",
      "Applied providers: ['CPUExecutionProvider'], with options: {'CPUExecutionProvider': {}}\n",
      "find model: /home/werserk/.insightface/models/buffalo_l/2d106det.onnx landmark_2d_106 ['None', 3, 192, 192] 0.0 1.0\n",
      "Applied providers: ['CPUExecutionProvider'], with options: {'CPUExecutionProvider': {}}\n",
      "find model: /home/werserk/.insightface/models/buffalo_l/det_10g.onnx detection [1, 3, '?', '?'] 127.5 128.0\n",
      "Applied providers: ['CPUExecutionProvider'], with options: {'CPUExecutionProvider': {}}\n",
      "find model: /home/werserk/.insightface/models/buffalo_l/genderage.onnx genderage ['None', 3, 96, 96] 0.0 1.0\n",
      "Applied providers: ['CPUExecutionProvider'], with options: {'CPUExecutionProvider': {}}\n",
      "find model: /home/werserk/.insightface/models/buffalo_l/w600k_r50.onnx recognition ['None', 3, 112, 112] 127.5 127.5\n",
      "set det-size: (640, 640)\n"
     ]
    }
   ],
   "execution_count": 4
  },
  {
   "metadata": {
    "ExecuteTime": {
     "end_time": "2024-10-08T13:38:00.638102Z",
     "start_time": "2024-10-08T13:37:59.630365Z"
    }
   },
   "cell_type": "code",
   "source": [
    "ROOT_PATH = \"../assets/examples\"\n",
    "\n",
    "vector_artem = get_vector(app, os.path.join(ROOT_PATH, \"artem.jpg\"))\n",
    "vector_max = get_vector(app, os.path.join(ROOT_PATH, \"max.jpg\"))\n",
    "vector_scarlet = get_vector(app, os.path.join(ROOT_PATH, \"scarlet.jpeg\"))\n",
    "vector_sonya = get_vector(app, os.path.join(ROOT_PATH, \"sonya.jpg\"))"
   ],
   "id": "cefadd8be251e258",
   "outputs": [],
   "execution_count": 5
  },
  {
   "metadata": {
    "ExecuteTime": {
     "end_time": "2024-10-08T13:38:00.644905Z",
     "start_time": "2024-10-08T13:38:00.639079Z"
    }
   },
   "cell_type": "code",
   "source": "vector_artem.shape",
   "id": "4c1405f9088e7bb2",
   "outputs": [
    {
     "data": {
      "text/plain": [
       "(512,)"
      ]
     },
     "execution_count": 6,
     "metadata": {},
     "output_type": "execute_result"
    }
   ],
   "execution_count": 6
  },
  {
   "metadata": {
    "ExecuteTime": {
     "end_time": "2024-10-08T13:38:00.657811Z",
     "start_time": "2024-10-08T13:38:00.645930Z"
    }
   },
   "cell_type": "code",
   "source": [
    "print(cos_metric(vector_max, vector_max))\n",
    "print(cos_metric(vector_artem, vector_scarlet))\n",
    "print(cos_metric(vector_max, vector_scarlet))\n",
    "print(cos_metric(vector_sonya, vector_scarlet))"
   ],
   "id": "e9f470fb977ea96e",
   "outputs": [
    {
     "name": "stdout",
     "output_type": "stream",
     "text": [
      "1.0000001\n",
      "-0.041161727\n",
      "0.0974093\n",
      "0.035541832\n"
     ]
    }
   ],
   "execution_count": 7
  },
  {
   "metadata": {
    "ExecuteTime": {
     "end_time": "2024-10-08T13:38:00.660454Z",
     "start_time": "2024-10-08T13:38:00.658703Z"
    }
   },
   "cell_type": "code",
   "source": "",
   "id": "5777f6b118dc10c7",
   "outputs": [],
   "execution_count": 7
  }
 ],
 "metadata": {
  "kernelspec": {
   "display_name": "Python 3",
   "language": "python",
   "name": "python3"
  },
  "language_info": {
   "codemirror_mode": {
    "name": "ipython",
    "version": 2
   },
   "file_extension": ".py",
   "mimetype": "text/x-python",
   "name": "python",
   "nbconvert_exporter": "python",
   "pygments_lexer": "ipython2",
   "version": "2.7.6"
  }
 },
 "nbformat": 4,
 "nbformat_minor": 5
}
