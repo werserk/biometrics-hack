{
 "cells": [
  {
   "cell_type": "code",
   "id": "initial_id",
   "metadata": {
    "collapsed": true,
    "ExecuteTime": {
     "end_time": "2024-10-07T18:50:08.926130Z",
     "start_time": "2024-10-07T18:50:08.920965Z"
    }
   },
   "source": [
    "import cv2\n",
    "import numpy as np\n",
    "import os\n",
    "\n",
    "from insightface.app import FaceAnalysis\n",
    "from insightface.data import get_image as ins_get_image\n",
    "from scipy.spatial.distance import cosine, euclidean, cityblock"
   ],
   "outputs": [],
   "execution_count": 40
  },
  {
   "metadata": {
    "ExecuteTime": {
     "end_time": "2024-10-07T18:52:37.440897Z",
     "start_time": "2024-10-07T18:52:37.436030Z"
    }
   },
   "cell_type": "code",
   "source": [
    "from numpy.linalg import norm\n",
    "\n",
    "\n",
    "def cos_metric(vector1: np.ndarray, vector2: np.ndarray) -> float:\n",
    "    cosine = np.dot(vector1, vector2) / (norm(vector1) * norm(vector2))\n",
    "    return cosine"
   ],
   "id": "2b0c7c0e7a9b32be",
   "outputs": [],
   "execution_count": 44
  },
  {
   "metadata": {
    "ExecuteTime": {
     "end_time": "2024-10-07T18:37:47.947005Z",
     "start_time": "2024-10-07T18:37:47.941952Z"
    }
   },
   "cell_type": "code",
   "source": [
    "def get_vector(app, img_path: str) -> np.ndarray:\n",
    "    img = cv2.imread(img_path)\n",
    "    faces = app.get(img)\n",
    "    return faces[0].normed_embedding"
   ],
   "id": "78d480c7a313b9ab",
   "outputs": [],
   "execution_count": 19
  },
  {
   "metadata": {
    "ExecuteTime": {
     "end_time": "2024-10-07T18:37:54.339284Z",
     "start_time": "2024-10-07T18:37:52.508373Z"
    }
   },
   "cell_type": "code",
   "source": [
    "# providers=['CUDAExecutionProvider', 'CPUExecutionProvider']\n",
    "app = FaceAnalysis(providers=[\"CPUExecutionProvider\"])\n",
    "app.prepare(ctx_id=0, det_size=(640, 640))"
   ],
   "id": "936c35f177ac2c54",
   "outputs": [
    {
     "name": "stdout",
     "output_type": "stream",
     "text": [
      "Applied providers: ['CPUExecutionProvider'], with options: {'CPUExecutionProvider': {}}\n",
      "find model: /home/tema/.insightface/models/buffalo_l/1k3d68.onnx landmark_3d_68 ['None', 3, 192, 192] 0.0 1.0\n",
      "Applied providers: ['CPUExecutionProvider'], with options: {'CPUExecutionProvider': {}}\n",
      "find model: /home/tema/.insightface/models/buffalo_l/2d106det.onnx landmark_2d_106 ['None', 3, 192, 192] 0.0 1.0\n",
      "Applied providers: ['CPUExecutionProvider'], with options: {'CPUExecutionProvider': {}}\n",
      "find model: /home/tema/.insightface/models/buffalo_l/det_10g.onnx detection [1, 3, '?', '?'] 127.5 128.0\n",
      "Applied providers: ['CPUExecutionProvider'], with options: {'CPUExecutionProvider': {}}\n",
      "find model: /home/tema/.insightface/models/buffalo_l/genderage.onnx genderage ['None', 3, 96, 96] 0.0 1.0\n",
      "Applied providers: ['CPUExecutionProvider'], with options: {'CPUExecutionProvider': {}}\n",
      "find model: /home/tema/.insightface/models/buffalo_l/w600k_r50.onnx recognition ['None', 3, 112, 112] 127.5 127.5\n",
      "set det-size: (640, 640)\n"
     ]
    }
   ],
   "execution_count": 20
  },
  {
   "metadata": {
    "ExecuteTime": {
     "end_time": "2024-10-07T18:53:30.246565Z",
     "start_time": "2024-10-07T18:53:28.734295Z"
    }
   },
   "cell_type": "code",
   "source": [
    "ROOT_PATH = \"../assets/examples\"\n",
    "\n",
    "vector_artem = get_vector(app, os.path.join(ROOT_PATH, \"artem.jpg\"))\n",
    "vector_max = get_vector(app, os.path.join(ROOT_PATH, \"max.jpg\"))\n",
    "vector_scarlet = get_vector(app, os.path.join(ROOT_PATH, \"scarlet.jpeg\"))"
   ],
   "id": "cefadd8be251e258",
   "outputs": [],
   "execution_count": 49
  },
  {
   "metadata": {
    "ExecuteTime": {
     "end_time": "2024-10-07T18:53:49.672305Z",
     "start_time": "2024-10-07T18:53:49.666040Z"
    }
   },
   "cell_type": "code",
   "source": [
    "print(cos_metric(vector_artem, vector_max))\n",
    "print(cos_metric(vector_artem, vector_scarlet))\n",
    "print(cos_metric(vector_max, vector_scarlet))"
   ],
   "id": "e9f470fb977ea96e",
   "outputs": [
    {
     "name": "stdout",
     "output_type": "stream",
     "text": [
      "0.04414026\n",
      "-0.041161727\n",
      "0.0974093\n"
     ]
    }
   ],
   "execution_count": 51
  },
  {
   "metadata": {},
   "cell_type": "code",
   "outputs": [],
   "execution_count": null,
   "source": "",
   "id": "5777f6b118dc10c7"
  }
 ],
 "metadata": {
  "kernelspec": {
   "display_name": "Python 3",
   "language": "python",
   "name": "python3"
  },
  "language_info": {
   "codemirror_mode": {
    "name": "ipython",
    "version": 2
   },
   "file_extension": ".py",
   "mimetype": "text/x-python",
   "name": "python",
   "nbconvert_exporter": "python",
   "pygments_lexer": "ipython2",
   "version": "2.7.6"
  }
 },
 "nbformat": 4,
 "nbformat_minor": 5
}
