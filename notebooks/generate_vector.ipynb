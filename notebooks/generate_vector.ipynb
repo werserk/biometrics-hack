{
 "cells": [
  {
   "cell_type": "code",
   "id": "initial_id",
   "metadata": {
    "collapsed": true,
    "ExecuteTime": {
     "end_time": "2024-10-10T18:45:29.920412Z",
     "start_time": "2024-10-10T18:45:27.603431Z"
    }
   },
   "source": [
    "import os\n",
    "\n",
    "import cv2\n",
    "import numpy as np\n",
    "from insightface.app import FaceAnalysis"
   ],
   "outputs": [
    {
     "name": "stderr",
     "output_type": "stream",
     "text": [
      "/home/tema/.cache/pypoetry/virtualenvs/biometrics-hack-Ov7VMGe3-py3.12/lib/python3.12/site-packages/albumentations/__init__.py:13: UserWarning: A new version of Albumentations is available: 1.4.18 (you have 1.4.17). Upgrade using: pip install -U albumentations. To disable automatic update checks, set the environment variable NO_ALBUMENTATIONS_UPDATE to 1.\n",
      "  check_for_updates()\n"
     ]
    }
   ],
   "execution_count": 1
  },
  {
   "metadata": {
    "ExecuteTime": {
     "end_time": "2024-10-10T18:45:29.932058Z",
     "start_time": "2024-10-10T18:45:29.927989Z"
    }
   },
   "cell_type": "code",
   "source": [
    "from numpy.linalg import norm\n",
    "\n",
    "\n",
    "def cos_metric(vector1: np.ndarray, vector2: np.ndarray) -> float:\n",
    "    cosine = np.dot(vector1, vector2) / (norm(vector1) * norm(vector2))\n",
    "    return cosine"
   ],
   "id": "2b0c7c0e7a9b32be",
   "outputs": [],
   "execution_count": 2
  },
  {
   "metadata": {
    "ExecuteTime": {
     "end_time": "2024-10-10T18:45:30.095380Z",
     "start_time": "2024-10-10T18:45:30.091869Z"
    }
   },
   "cell_type": "code",
   "source": [
    "def get_vector(app, img_path: str) -> np.ndarray:\n",
    "    img = cv2.imread(img_path)\n",
    "    faces = app.get(img)\n",
    "    return faces[0].normed_embedding"
   ],
   "id": "78d480c7a313b9ab",
   "outputs": [],
   "execution_count": 3
  },
  {
   "metadata": {
    "ExecuteTime": {
     "end_time": "2024-10-10T18:46:28.573459Z",
     "start_time": "2024-10-10T18:45:50.994456Z"
    }
   },
   "cell_type": "code",
   "source": [
    "# providers=['CUDAExecutionProvider', 'CPUExecutionProvider']\n",
    "app = FaceAnalysis(name='antelopev2', root = \"./models/\", providers=[\"CPUExecutionProvider\"])\n",
    "app.prepare(ctx_id=0, det_size=(640, 640))"
   ],
   "id": "936c35f177ac2c54",
   "outputs": [
    {
     "name": "stdout",
     "output_type": "stream",
     "text": [
      "download_path: ./models/models/antelopev2\n",
      "Downloading ./models/models/antelopev2.zip from https://github.com/deepinsight/insightface/releases/download/v0.7/antelopev2.zip...\n"
     ]
    },
    {
     "name": "stderr",
     "output_type": "stream",
     "text": [
      "100%|██████████| 352210/352210 [00:32<00:00, 10800.18KB/s]\n"
     ]
    },
    {
     "ename": "AssertionError",
     "evalue": "",
     "output_type": "error",
     "traceback": [
      "\u001B[0;31m---------------------------------------------------------------------------\u001B[0m",
      "\u001B[0;31mAssertionError\u001B[0m                            Traceback (most recent call last)",
      "Cell \u001B[0;32mIn[5], line 2\u001B[0m\n\u001B[1;32m      1\u001B[0m \u001B[38;5;66;03m# providers=['CUDAExecutionProvider', 'CPUExecutionProvider']\u001B[39;00m\n\u001B[0;32m----> 2\u001B[0m app \u001B[38;5;241m=\u001B[39m \u001B[43mFaceAnalysis\u001B[49m\u001B[43m(\u001B[49m\u001B[43mname\u001B[49m\u001B[38;5;241;43m=\u001B[39;49m\u001B[38;5;124;43m'\u001B[39;49m\u001B[38;5;124;43mantelopev2\u001B[39;49m\u001B[38;5;124;43m'\u001B[39;49m\u001B[43m,\u001B[49m\u001B[43m \u001B[49m\u001B[43mroot\u001B[49m\u001B[43m \u001B[49m\u001B[38;5;241;43m=\u001B[39;49m\u001B[43m \u001B[49m\u001B[38;5;124;43m\"\u001B[39;49m\u001B[38;5;124;43m./models/\u001B[39;49m\u001B[38;5;124;43m\"\u001B[39;49m\u001B[43m,\u001B[49m\u001B[43m \u001B[49m\u001B[43mproviders\u001B[49m\u001B[38;5;241;43m=\u001B[39;49m\u001B[43m[\u001B[49m\u001B[38;5;124;43m\"\u001B[39;49m\u001B[38;5;124;43mCPUExecutionProvider\u001B[39;49m\u001B[38;5;124;43m\"\u001B[39;49m\u001B[43m]\u001B[49m\u001B[43m)\u001B[49m\n\u001B[1;32m      3\u001B[0m app\u001B[38;5;241m.\u001B[39mprepare(ctx_id\u001B[38;5;241m=\u001B[39m\u001B[38;5;241m0\u001B[39m, det_size\u001B[38;5;241m=\u001B[39m(\u001B[38;5;241m640\u001B[39m, \u001B[38;5;241m640\u001B[39m))\n",
      "File \u001B[0;32m~/.cache/pypoetry/virtualenvs/biometrics-hack-Ov7VMGe3-py3.12/lib/python3.12/site-packages/insightface/app/face_analysis.py:43\u001B[0m, in \u001B[0;36mFaceAnalysis.__init__\u001B[0;34m(self, name, root, allowed_modules, **kwargs)\u001B[0m\n\u001B[1;32m     41\u001B[0m         \u001B[38;5;28mprint\u001B[39m(\u001B[38;5;124m'\u001B[39m\u001B[38;5;124mduplicated model task type, ignore:\u001B[39m\u001B[38;5;124m'\u001B[39m, onnx_file, model\u001B[38;5;241m.\u001B[39mtaskname)\n\u001B[1;32m     42\u001B[0m         \u001B[38;5;28;01mdel\u001B[39;00m model\n\u001B[0;32m---> 43\u001B[0m \u001B[38;5;28;01massert\u001B[39;00m \u001B[38;5;124m'\u001B[39m\u001B[38;5;124mdetection\u001B[39m\u001B[38;5;124m'\u001B[39m \u001B[38;5;129;01min\u001B[39;00m \u001B[38;5;28mself\u001B[39m\u001B[38;5;241m.\u001B[39mmodels\n\u001B[1;32m     44\u001B[0m \u001B[38;5;28mself\u001B[39m\u001B[38;5;241m.\u001B[39mdet_model \u001B[38;5;241m=\u001B[39m \u001B[38;5;28mself\u001B[39m\u001B[38;5;241m.\u001B[39mmodels[\u001B[38;5;124m'\u001B[39m\u001B[38;5;124mdetection\u001B[39m\u001B[38;5;124m'\u001B[39m]\n",
      "\u001B[0;31mAssertionError\u001B[0m: "
     ]
    }
   ],
   "execution_count": 5
  },
  {
   "metadata": {
    "ExecuteTime": {
     "end_time": "2024-10-10T18:45:25.405342261Z",
     "start_time": "2024-10-10T18:39:47.321754Z"
    }
   },
   "cell_type": "code",
   "source": [
    "img = cv2.imread(os.path.join(ROOT_PATH, 'scarlet.jpeg'))\n",
    "faces = app.get(img)\n"
   ],
   "id": "9a29c0d1b61ee48b",
   "outputs": [
    {
     "ename": "NameError",
     "evalue": "name 'ROOT_PATH' is not defined",
     "output_type": "error",
     "traceback": [
      "\u001B[0;31m---------------------------------------------------------------------------\u001B[0m",
      "\u001B[0;31mNameError\u001B[0m                                 Traceback (most recent call last)",
      "Cell \u001B[0;32mIn[6], line 1\u001B[0m\n\u001B[0;32m----> 1\u001B[0m img \u001B[38;5;241m=\u001B[39m cv2\u001B[38;5;241m.\u001B[39mimread(os\u001B[38;5;241m.\u001B[39mpath\u001B[38;5;241m.\u001B[39mjoin(\u001B[43mROOT_PATH\u001B[49m, \u001B[38;5;124m'\u001B[39m\u001B[38;5;124mscarlet.jpeg\u001B[39m\u001B[38;5;124m'\u001B[39m))\n\u001B[1;32m      2\u001B[0m faces \u001B[38;5;241m=\u001B[39m app\u001B[38;5;241m.\u001B[39mget(img)\n",
      "\u001B[0;31mNameError\u001B[0m: name 'ROOT_PATH' is not defined"
     ]
    }
   ],
   "execution_count": 6
  },
  {
   "metadata": {
    "ExecuteTime": {
     "end_time": "2024-10-10T18:45:25.406187329Z",
     "start_time": "2024-10-10T18:39:48.564349Z"
    }
   },
   "cell_type": "code",
   "source": "faces[0]['bbox']",
   "id": "9c54a679d8151002",
   "outputs": [
    {
     "ename": "NameError",
     "evalue": "name 'faces' is not defined",
     "output_type": "error",
     "traceback": [
      "\u001B[0;31m---------------------------------------------------------------------------\u001B[0m",
      "\u001B[0;31mNameError\u001B[0m                                 Traceback (most recent call last)",
      "Cell \u001B[0;32mIn[7], line 1\u001B[0m\n\u001B[0;32m----> 1\u001B[0m \u001B[43mfaces\u001B[49m[\u001B[38;5;241m0\u001B[39m][\u001B[38;5;124m'\u001B[39m\u001B[38;5;124mbbox\u001B[39m\u001B[38;5;124m'\u001B[39m]\n",
      "\u001B[0;31mNameError\u001B[0m: name 'faces' is not defined"
     ]
    }
   ],
   "execution_count": 7
  },
  {
   "metadata": {
    "ExecuteTime": {
     "end_time": "2024-10-10T18:45:25.407143093Z",
     "start_time": "2024-10-10T18:39:49.115546Z"
    }
   },
   "cell_type": "code",
   "source": [
    "import matplotlib.pyplot as plt\n",
    "fig, ax = plt.subplots()\n",
    "\n",
    "cords = faces[0]['bbox']\n",
    "x = cords[0] - cords[2] / 2\n",
    "y = cords[1] - cords[3] / 2\n",
    "print(x, y)\n",
    "ax.imshow(img)\n",
    "# Добавление bounding box на график\n",
    "bounding_box = plt.Rectangle((cords[0], cords[1]), cords[2] - cords[0], cords[3] - cords[1], edgecolor='r', facecolor='none', linewidth=2)\n",
    "ax.add_patch(bounding_box)\n"
   ],
   "id": "dd1b8b4758bc4277",
   "outputs": [
    {
     "ename": "NameError",
     "evalue": "name 'faces' is not defined",
     "output_type": "error",
     "traceback": [
      "\u001B[0;31m---------------------------------------------------------------------------\u001B[0m",
      "\u001B[0;31mNameError\u001B[0m                                 Traceback (most recent call last)",
      "Cell \u001B[0;32mIn[8], line 4\u001B[0m\n\u001B[1;32m      1\u001B[0m \u001B[38;5;28;01mimport\u001B[39;00m \u001B[38;5;21;01mmatplotlib\u001B[39;00m\u001B[38;5;21;01m.\u001B[39;00m\u001B[38;5;21;01mpyplot\u001B[39;00m \u001B[38;5;28;01mas\u001B[39;00m \u001B[38;5;21;01mplt\u001B[39;00m\n\u001B[1;32m      2\u001B[0m fig, ax \u001B[38;5;241m=\u001B[39m plt\u001B[38;5;241m.\u001B[39msubplots()\n\u001B[0;32m----> 4\u001B[0m cords \u001B[38;5;241m=\u001B[39m \u001B[43mfaces\u001B[49m[\u001B[38;5;241m0\u001B[39m][\u001B[38;5;124m'\u001B[39m\u001B[38;5;124mbbox\u001B[39m\u001B[38;5;124m'\u001B[39m]\n\u001B[1;32m      5\u001B[0m x \u001B[38;5;241m=\u001B[39m cords[\u001B[38;5;241m0\u001B[39m] \u001B[38;5;241m-\u001B[39m cords[\u001B[38;5;241m2\u001B[39m] \u001B[38;5;241m/\u001B[39m \u001B[38;5;241m2\u001B[39m\n\u001B[1;32m      6\u001B[0m y \u001B[38;5;241m=\u001B[39m cords[\u001B[38;5;241m1\u001B[39m] \u001B[38;5;241m-\u001B[39m cords[\u001B[38;5;241m3\u001B[39m] \u001B[38;5;241m/\u001B[39m \u001B[38;5;241m2\u001B[39m\n",
      "\u001B[0;31mNameError\u001B[0m: name 'faces' is not defined"
     ]
    },
    {
     "data": {
      "text/plain": [
       "<Figure size 640x480 with 1 Axes>"
      ],
      "image/png": "[encoded data removed]"
     },
     "metadata": {},
     "output_type": "display_data"
    }
   ],
   "execution_count": 8
  },
  {
   "metadata": {
    "ExecuteTime": {
     "end_time": "2024-10-10T18:45:25.408651574Z",
     "start_time": "2024-10-10T18:39:50.136949Z"
    }
   },
   "cell_type": "code",
   "source": [
    "ROOT_PATH = \"../assets/examples\"\n",
    "\n",
    "vector_artem = get_vector(app, os.path.join(ROOT_PATH, \"artem.jpg\"))\n",
    "vector_max = get_vector(app, os.path.join(ROOT_PATH, \"max.jpg\"))\n",
    "vector_scarlet = get_vector(app, os.path.join(ROOT_PATH, \"scarlet.jpeg\"))\n",
    "vector_sonya = get_vector(app, os.path.join(ROOT_PATH, \"sonya.jpg\"))\n",
    "vector_max2 = get_vector(app, os.path.join(ROOT_PATH, \"max2.jpg\"))\n",
    "vector_max3 = get_vector(app, os.path.join(ROOT_PATH, \"max3.jpg\"))"
   ],
   "id": "cefadd8be251e258",
   "outputs": [
    {
     "ename": "NameError",
     "evalue": "name 'app' is not defined",
     "output_type": "error",
     "traceback": [
      "\u001B[0;31m---------------------------------------------------------------------------\u001B[0m",
      "\u001B[0;31mNameError\u001B[0m                                 Traceback (most recent call last)",
      "Cell \u001B[0;32mIn[9], line 3\u001B[0m\n\u001B[1;32m      1\u001B[0m ROOT_PATH \u001B[38;5;241m=\u001B[39m \u001B[38;5;124m\"\u001B[39m\u001B[38;5;124m../assets/examples\u001B[39m\u001B[38;5;124m\"\u001B[39m\n\u001B[0;32m----> 3\u001B[0m vector_artem \u001B[38;5;241m=\u001B[39m get_vector(\u001B[43mapp\u001B[49m, os\u001B[38;5;241m.\u001B[39mpath\u001B[38;5;241m.\u001B[39mjoin(ROOT_PATH, \u001B[38;5;124m\"\u001B[39m\u001B[38;5;124martem.jpg\u001B[39m\u001B[38;5;124m\"\u001B[39m))\n\u001B[1;32m      4\u001B[0m vector_max \u001B[38;5;241m=\u001B[39m get_vector(app, os\u001B[38;5;241m.\u001B[39mpath\u001B[38;5;241m.\u001B[39mjoin(ROOT_PATH, \u001B[38;5;124m\"\u001B[39m\u001B[38;5;124mmax.jpg\u001B[39m\u001B[38;5;124m\"\u001B[39m))\n\u001B[1;32m      5\u001B[0m vector_scarlet \u001B[38;5;241m=\u001B[39m get_vector(app, os\u001B[38;5;241m.\u001B[39mpath\u001B[38;5;241m.\u001B[39mjoin(ROOT_PATH, \u001B[38;5;124m\"\u001B[39m\u001B[38;5;124mscarlet.jpeg\u001B[39m\u001B[38;5;124m\"\u001B[39m))\n",
      "\u001B[0;31mNameError\u001B[0m: name 'app' is not defined"
     ]
    }
   ],
   "execution_count": 9
  },
  {
   "metadata": {
    "ExecuteTime": {
     "end_time": "2024-10-10T18:45:25.428218030Z",
     "start_time": "2024-10-08T14:27:53.562378Z"
    }
   },
   "cell_type": "code",
   "source": "vector_max3 = get_vector(app, os.path.join(ROOT_PATH, \"max3.jpg\"))",
   "id": "12d747f35e1257fe",
   "outputs": [],
   "execution_count": 16
  },
  {
   "metadata": {
    "ExecuteTime": {
     "end_time": "2024-10-10T18:45:25.429180988Z",
     "start_time": "2024-10-08T14:28:40.247392Z"
    }
   },
   "cell_type": "code",
   "source": "",
   "id": "ce030ebf71d955e9",
   "outputs": [],
   "execution_count": null
  },
  {
   "metadata": {
    "ExecuteTime": {
     "end_time": "2024-10-10T18:45:25.429752701Z",
     "start_time": "2024-10-08T14:27:07.172424Z"
    }
   },
   "cell_type": "code",
   "source": "vector_artem.shape",
   "id": "4c1405f9088e7bb2",
   "outputs": [
    {
     "data": {
      "text/plain": [
       "(512,)"
      ]
     },
     "execution_count": 9,
     "metadata": {},
     "output_type": "execute_result"
    }
   ],
   "execution_count": 9
  },
  {
   "metadata": {
    "ExecuteTime": {
     "end_time": "2024-10-10T18:45:25.430604683Z",
     "start_time": "2024-10-08T14:00:31.688217Z"
    }
   },
   "cell_type": "code",
   "source": [
    "print(cos_metric(vector_max, vector_max))\n",
    "print(cos_metric(vector_artem, vector_scarlet))\n",
    "print(cos_metric(vector_max, vector_scarlet))\n",
    "print(cos_metric(vector_sonya, vector_scarlet))\n",
    "print(cos_metric(vector_max, vector_artem))"
   ],
   "id": "e9f470fb977ea96e",
   "outputs": [
    {
     "name": "stdout",
     "output_type": "stream",
     "text": [
      "1.0000001\n",
      "-0.041161727\n",
      "0.0974093\n",
      "0.035541832\n",
      "0.04414026\n"
     ]
    }
   ],
   "execution_count": 9
  },
  {
   "metadata": {
    "ExecuteTime": {
     "end_time": "2024-10-10T18:45:25.431419370Z",
     "start_time": "2024-10-08T13:58:57.411209Z"
    }
   },
   "cell_type": "code",
   "source": [
    "print(cos_metric(vector_max, vector_max2))\n",
    "print(cos_metric(vector_max, vector_max3))\n",
    "print(cos_metric(vector_max2, vector_max3))"
   ],
   "id": "5777f6b118dc10c7",
   "outputs": [
    {
     "name": "stdout",
     "output_type": "stream",
     "text": [
      "0.61291605\n",
      "0.5359313\n",
      "0.6193128\n"
     ]
    }
   ],
   "execution_count": 8
  },
  {
   "metadata": {
    "ExecuteTime": {
     "end_time": "2024-10-10T18:45:25.432056942Z",
     "start_time": "2024-10-08T15:05:53.618070Z"
    }
   },
   "cell_type": "code",
   "source": "np.argmax([False, False, True])",
   "id": "3d12bde00a649f6d",
   "outputs": [
    {
     "data": {
      "text/plain": [
       "np.int64(2)"
      ]
     },
     "execution_count": 20,
     "metadata": {},
     "output_type": "execute_result"
    }
   ],
   "execution_count": 20
  },
  {
   "metadata": {
    "ExecuteTime": {
     "end_time": "2024-10-10T18:45:25.432851445Z",
     "start_time": "2024-10-08T15:10:37.568753Z"
    }
   },
   "cell_type": "code",
   "source": "img",
   "id": "383f449d10920f90",
   "outputs": [
    {
     "ename": "NameError",
     "evalue": "name 'img' is not defined",
     "output_type": "error",
     "traceback": [
      "\u001B[0;31m---------------------------------------------------------------------------\u001B[0m",
      "\u001B[0;31mNameError\u001B[0m                                 Traceback (most recent call last)",
      "Cell \u001B[0;32mIn[22], line 1\u001B[0m\n\u001B[0;32m----> 1\u001B[0m \u001B[43mimg\u001B[49m\n",
      "\u001B[0;31mNameError\u001B[0m: name 'img' is not defined"
     ]
    }
   ],
   "execution_count": 22
  },
  {
   "metadata": {
    "ExecuteTime": {
     "end_time": "2024-10-12T20:09:49.857259Z",
     "start_time": "2024-10-12T20:09:49.171394Z"
    }
   },
   "cell_type": "code",
   "source": "import pandas as pd",
   "id": "ff1a298586cea2cb",
   "outputs": [],
   "execution_count": 1
  },
  {
   "metadata": {
    "ExecuteTime": {
     "end_time": "2024-10-12T20:12:29.126542Z",
     "start_time": "2024-10-12T20:12:29.091302Z"
    }
   },
   "cell_type": "code",
   "source": "data",
   "id": "370b9fb3bd6065e6",
   "outputs": [
    {
     "data": {
      "text/plain": [
       "                              attachment_id                           user_id  \\\n",
       "0      de81cc1c-25f3-45b8-a7a2-ea42ec7c3c7b  1b70f339783ae94172ae47ae511aeb92   \n",
       "1      d17ca986-8ae1-4675-b3f5-69ca024fc2b1  cf16af42fb366a16face9a6f480d8654   \n",
       "2      4b99a894-aa73-43a2-b077-143efdc8ef46  f8affcd943ce3dc5d7040bd499c8bfd3   \n",
       "3      d68f7657-fb0c-4882-bda5-b61ab95fc11c  9c340400bc5aef3e54e932d2320b33f6   \n",
       "4      f3307095-20cf-4dc0-acea-0243f40f6d7f  c60b1ae97ab03e6a5cc7dde77af527da   \n",
       "...                                     ...                               ...   \n",
       "19995  c9b6fdbc-9164-416f-9df8-64cb16d6e72b  0bf8258e9c1602253cb4e1ac7cda963c   \n",
       "19996  ab661d04-3058-4e82-81ba-437049c1ec64  4a70a8aebc478ca9e2393e00253fceca   \n",
       "19997  5793c68f-1b82-43ae-99c3-a34ecc5d35c0  49efc176ab5bbdb15f059eac0e474dea   \n",
       "19998  0362d137-21b4-453e-9785-3ce11c0abbdf  d6f605b57c3cfb6989d9aa48c1a61a85   \n",
       "19999  950b503b-4347-4220-9c75-48377d3943bb  840ed8f0198e7835d4c0b9fb4457e68c   \n",
       "\n",
       "              data_hash   width  height  brightness   test  train  valid  \n",
       "0      e8f7924b9c7021c7  1440.0  1920.0       136.0   True  False  False  \n",
       "1      a697494173ee8359  1080.0  1920.0       140.0   True  False  False  \n",
       "2      a4f15b8618e9fc1c  1440.0  1920.0       151.0  False  False   True  \n",
       "3      b0cb87849cf813f3  1425.0  1920.0       183.0   True  False  False  \n",
       "4      a4d34b962cf2b30d  1434.0  1920.0       177.0  False   True  False  \n",
       "...                 ...     ...     ...         ...    ...    ...    ...  \n",
       "19995  e63449b51b6135b9   640.0   480.0       136.0  False   True  False  \n",
       "19996  f0e025a7a69be781  1440.0  1920.0       109.0   True  False  False  \n",
       "19997  fcf263b2c8a4926c  1920.0  1080.0        98.0  False   True  False  \n",
       "19998  e1e71ae612a29a9b   640.0   360.0       128.0  False   True  False  \n",
       "19999  f2c30dd1cb0ccccd   600.0   400.0       140.0   True  False  False  \n",
       "\n",
       "[20000 rows x 9 columns]"
      ],
      "text/html": [
       "<div>\n",
       "<style scoped>\n",
       "    .dataframe tbody tr th:only-of-type {\n",
       "        vertical-align: middle;\n",
       "    }\n",
       "\n",
       "    .dataframe tbody tr th {\n",
       "        vertical-align: top;\n",
       "    }\n",
       "\n",
       "    .dataframe thead th {\n",
       "        text-align: right;\n",
       "    }\n",
       "</style>\n",
       "<table border=\"1\" class=\"dataframe\">\n",
       "  <thead>\n",
       "    <tr style=\"text-align: right;\">\n",
       "      <th></th>\n",
       "      <th>attachment_id</th>\n",
       "      <th>user_id</th>\n",
       "      <th>data_hash</th>\n",
       "      <th>width</th>\n",
       "      <th>height</th>\n",
       "      <th>brightness</th>\n",
       "      <th>test</th>\n",
       "      <th>train</th>\n",
       "      <th>valid</th>\n",
       "    </tr>\n",
       "  </thead>\n",
       "  <tbody>\n",
       "    <tr>\n",
       "      <th>0</th>\n",
       "      <td>de81cc1c-25f3-45b8-a7a2-ea42ec7c3c7b</td>\n",
       "      <td>1b70f339783ae94172ae47ae511aeb92</td>\n",
       "      <td>e8f7924b9c7021c7</td>\n",
       "      <td>1440.0</td>\n",
       "      <td>1920.0</td>\n",
       "      <td>136.0</td>\n",
       "      <td>True</td>\n",
       "      <td>False</td>\n",
       "      <td>False</td>\n",
       "    </tr>\n",
       "    <tr>\n",
       "      <th>1</th>\n",
       "      <td>d17ca986-8ae1-4675-b3f5-69ca024fc2b1</td>\n",
       "      <td>cf16af42fb366a16face9a6f480d8654</td>\n",
       "      <td>a697494173ee8359</td>\n",
       "      <td>1080.0</td>\n",
       "      <td>1920.0</td>\n",
       "      <td>140.0</td>\n",
       "      <td>True</td>\n",
       "      <td>False</td>\n",
       "      <td>False</td>\n",
       "    </tr>\n",
       "    <tr>\n",
       "      <th>2</th>\n",
       "      <td>4b99a894-aa73-43a2-b077-143efdc8ef46</td>\n",
       "      <td>f8affcd943ce3dc5d7040bd499c8bfd3</td>\n",
       "      <td>a4f15b8618e9fc1c</td>\n",
       "      <td>1440.0</td>\n",
       "      <td>1920.0</td>\n",
       "      <td>151.0</td>\n",
       "      <td>False</td>\n",
       "      <td>False</td>\n",
       "      <td>True</td>\n",
       "    </tr>\n",
       "    <tr>\n",
       "      <th>3</th>\n",
       "      <td>d68f7657-fb0c-4882-bda5-b61ab95fc11c</td>\n",
       "      <td>9c340400bc5aef3e54e932d2320b33f6</td>\n",
       "      <td>b0cb87849cf813f3</td>\n",
       "      <td>1425.0</td>\n",
       "      <td>1920.0</td>\n",
       "      <td>183.0</td>\n",
       "      <td>True</td>\n",
       "      <td>False</td>\n",
       "      <td>False</td>\n",
       "    </tr>\n",
       "    <tr>\n",
       "      <th>4</th>\n",
       "      <td>f3307095-20cf-4dc0-acea-0243f40f6d7f</td>\n",
       "      <td>c60b1ae97ab03e6a5cc7dde77af527da</td>\n",
       "      <td>a4d34b962cf2b30d</td>\n",
       "      <td>1434.0</td>\n",
       "      <td>1920.0</td>\n",
       "      <td>177.0</td>\n",
       "      <td>False</td>\n",
       "      <td>True</td>\n",
       "      <td>False</td>\n",
       "    </tr>\n",
       "    <tr>\n",
       "      <th>...</th>\n",
       "      <td>...</td>\n",
       "      <td>...</td>\n",
       "      <td>...</td>\n",
       "      <td>...</td>\n",
       "      <td>...</td>\n",
       "      <td>...</td>\n",
       "      <td>...</td>\n",
       "      <td>...</td>\n",
       "      <td>...</td>\n",
       "    </tr>\n",
       "    <tr>\n",
       "      <th>19995</th>\n",
       "      <td>c9b6fdbc-9164-416f-9df8-64cb16d6e72b</td>\n",
       "      <td>0bf8258e9c1602253cb4e1ac7cda963c</td>\n",
       "      <td>e63449b51b6135b9</td>\n",
       "      <td>640.0</td>\n",
       "      <td>480.0</td>\n",
       "      <td>136.0</td>\n",
       "      <td>False</td>\n",
       "      <td>True</td>\n",
       "      <td>False</td>\n",
       "    </tr>\n",
       "    <tr>\n",
       "      <th>19996</th>\n",
       "      <td>ab661d04-3058-4e82-81ba-437049c1ec64</td>\n",
       "      <td>4a70a8aebc478ca9e2393e00253fceca</td>\n",
       "      <td>f0e025a7a69be781</td>\n",
       "      <td>1440.0</td>\n",
       "      <td>1920.0</td>\n",
       "      <td>109.0</td>\n",
       "      <td>True</td>\n",
       "      <td>False</td>\n",
       "      <td>False</td>\n",
       "    </tr>\n",
       "    <tr>\n",
       "      <th>19997</th>\n",
       "      <td>5793c68f-1b82-43ae-99c3-a34ecc5d35c0</td>\n",
       "      <td>49efc176ab5bbdb15f059eac0e474dea</td>\n",
       "      <td>fcf263b2c8a4926c</td>\n",
       "      <td>1920.0</td>\n",
       "      <td>1080.0</td>\n",
       "      <td>98.0</td>\n",
       "      <td>False</td>\n",
       "      <td>True</td>\n",
       "      <td>False</td>\n",
       "    </tr>\n",
       "    <tr>\n",
       "      <th>19998</th>\n",
       "      <td>0362d137-21b4-453e-9785-3ce11c0abbdf</td>\n",
       "      <td>d6f605b57c3cfb6989d9aa48c1a61a85</td>\n",
       "      <td>e1e71ae612a29a9b</td>\n",
       "      <td>640.0</td>\n",
       "      <td>360.0</td>\n",
       "      <td>128.0</td>\n",
       "      <td>False</td>\n",
       "      <td>True</td>\n",
       "      <td>False</td>\n",
       "    </tr>\n",
       "    <tr>\n",
       "      <th>19999</th>\n",
       "      <td>950b503b-4347-4220-9c75-48377d3943bb</td>\n",
       "      <td>840ed8f0198e7835d4c0b9fb4457e68c</td>\n",
       "      <td>f2c30dd1cb0ccccd</td>\n",
       "      <td>600.0</td>\n",
       "      <td>400.0</td>\n",
       "      <td>140.0</td>\n",
       "      <td>True</td>\n",
       "      <td>False</td>\n",
       "      <td>False</td>\n",
       "    </tr>\n",
       "  </tbody>\n",
       "</table>\n",
       "<p>20000 rows × 9 columns</p>\n",
       "</div>"
      ]
     },
     "execution_count": 10,
     "metadata": {},
     "output_type": "execute_result"
    }
   ],
   "execution_count": 10
  },
  {
   "metadata": {
    "ExecuteTime": {
     "end_time": "2024-10-12T20:10:25.400582Z",
     "start_time": "2024-10-12T20:10:25.315009Z"
    }
   },
   "cell_type": "code",
   "source": [
    "data = pd.read_csv('../meta.csv')\n",
    "grouped = data.groupby('user_id')\n",
    "results = []\n",
    "\n"
   ],
   "id": "98e3cd41e853dbb",
   "outputs": [],
   "execution_count": 3
  },
  {
   "metadata": {
    "ExecuteTime": {
     "end_time": "2024-10-12T20:12:44.734633Z",
     "start_time": "2024-10-12T20:12:44.720162Z"
    }
   },
   "cell_type": "code",
   "source": [
    "for user_id, group in grouped:\n",
    "    print(user_id)\n",
    "    # print(group)\n",
    "    for _, row in group.iterrows():\n",
    "        print(row['attachment_id'])\n",
    "    break"
   ],
   "id": "f6307f8ce50dae31",
   "outputs": [
    {
     "name": "stdout",
     "output_type": "stream",
     "text": [
      "000846d038cc6289acf99f0739820896\n",
      "e70334e6-b385-4db6-90f8-3f967511b082\n",
      "f6da0358-69bb-4e94-9b70-03c493d2962c\n"
     ]
    }
   ],
   "execution_count": 11
  },
  {
   "metadata": {},
   "cell_type": "code",
   "outputs": [],
   "execution_count": null,
   "source": "",
   "id": "a0ff66dad5664014"
  }
 ],
 "metadata": {
  "kernelspec": {
   "display_name": "Python 3",
   "language": "python",
   "name": "python3"
  },
  "language_info": {
   "codemirror_mode": {
    "name": "ipython",
    "version": 2
   },
   "file_extension": ".py",
   "mimetype": "text/x-python",
   "name": "python",
   "nbconvert_exporter": "python",
   "pygments_lexer": "ipython2",
   "version": "2.7.6"
  }
 },
 "nbformat": 4,
 "nbformat_minor": 5
}
